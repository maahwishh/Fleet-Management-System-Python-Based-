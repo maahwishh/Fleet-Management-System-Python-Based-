{
 "cells": [
  {
   "cell_type": "markdown",
   "id": "bef6872e",
   "metadata": {},
   "source": [
    "## Problem Statement"
   ]
  },
  {
   "cell_type": "markdown",
   "id": "b3a0a829",
   "metadata": {},
   "source": [
    "### The challenge at 'FastFleet Logistics' is the lack of an efficient fleet management system, necessitating the development of a comprehensive data management solution for streamlined operations. The problem can be categorized into the following critical domains:\n",
    "\n",
    "### 1. Vehicle Fleet Management\n",
    "### 2. Driver Management\n",
    "### 3. Route Management"
   ]
  },
  {
   "cell_type": "code",
   "execution_count": null,
   "id": "41f89457",
   "metadata": {},
   "outputs": [],
   "source": [
    "class Truck:\n",
    "    def __init__(self, vehicle_id, make, model, year, mileage, status, last_maintenance_date, cargo_capacity):\n",
    "        self.__vehicle_id = vehicle_id\n",
    "        self.__make = make\n",
    "        self.__model = model\n",
    "        self.__year = year\n",
    "        self.__mileage = mileage\n",
    "        self.__status = status\n",
    "        self.__last_maintenance_date = last_maintenance_date\n",
    "        self.__cargo_capacity = cargo_capacity\n",
    "\n",
    "    def truck_info(self):\n",
    "        print('Truck ID = ', self.__vehicle_id)\n",
    "        print('Make = ', self.__make)\n",
    "        print('Model = ', self.__model)\n",
    "        print('Year = ', self.__year)\n",
    "        print('Mileage = ', self.__mileage)\n",
    "        print('Status = ', self.__status)\n",
    "        print('Last Maintenance Date = ', self.__last_maintenance_date)\n",
    "        print('Cargo Capacity = ', self.__cargo_capacity, 'lbs')\n",
    "        \n",
    "    def get_truck_id(self):\n",
    "        return self.__vehicle_id\n",
    "    \n",
    "    def get_make(self):\n",
    "        return self.__make\n",
    "    \n",
    "    def get_model(self):\n",
    "        return self.__model\n",
    "    \n",
    "    def get_status(self):\n",
    "        return self.__status\n",
    "\n",
    "    def maintenance_required(self):\n",
    "        if self.__status == 'Maintenance Required':\n",
    "            return \"Yes\"\n",
    "        else:\n",
    "            return \"No\"\n",
    "\n",
    "    def update_mileage(self, new_mileage):\n",
    "        if new_mileage >= 0:\n",
    "            self.__mileage = new_mileage\n",
    "        else:\n",
    "            print('Invalid mileage value')\n",
    "\n",
    "    def perform_maintenance(self):\n",
    "        self.__status = \"Available\"\n",
    "        self.__last_maintenance_date = input('Enter maintenance date (YYYY/MM/DD): ')\n",
    "        \n",
    "    def update_status(self, new_status):\n",
    "        if new_status in ['Available', 'Maintenance Required']:\n",
    "            self.__status = new_status\n",
    "        else:\n",
    "            print('Invalid status')\n",
    "\n",
    "    def update_cargo_capacity(self, new_capacity):\n",
    "        if new_capacity >= 0:\n",
    "            self.__cargo_capacity = new_capacity\n",
    "        else:\n",
    "            print('Invalid cargo capacity value')\n",
    "    \n",
    "    def update_last_maintenance_date(self, new_date):\n",
    "        self.__last_maintenance_date = new_date\n",
    "        \n",
    "truck_1 = Truck(1, 'Ford', 'F-150', 2022, 6000, 'Available', '2023-10-20', 2100)\n",
    "maintenance_date = input('Enter maintenance date (YYYY/MM/DD): ')\n",
    "truck_1.perform_maintenance(maintenance_date)\n",
    "truck_1.truck_info()\n"
   ]
  },
  {
   "cell_type": "code",
   "execution_count": null,
   "id": "e7fc9271",
   "metadata": {},
   "outputs": [],
   "source": [
    "# Instances of trucks\n",
    "truck_1 = Truck(1, 'Ford', 'F-150', 2022, 15000, 'Available', '2023-10-20', 2500)\n",
    "truck_2 = Truck(2, 'Chevrolet', 'Silverado', 2023, 12000, 'Available', '2023-09-28', 3000)\n",
    "truck_3 = Truck(3, 'Ram', '1500', 2021, 18000, 'Maintenance Required', '2023-11-05', 3200)\n",
    "truck_4 = Truck(4, 'GMC', 'Sierra', 2023, 17000, 'Available', '2023-10-15', 3500)\n",
    "truck_5 = Truck(5, 'Toyota', 'Tundra', 2022, 20000, 'Available', '2023-10-25', 2800)\n",
    "truck_6 = Truck(6, 'Nissan', 'Titan', 2021, 25000, 'Available', '2023-10-14', 3100)\n",
    "truck_7 = Truck(7, 'Dodge', 'Ram 2500', 2022, 21000, 'Maintenance Required', '2023-11-02', 3400)\n",
    "truck_8 = Truck(8, 'Ford', 'Ranger', 2023, 22000, 'Available', '2023-10-18', 2600)\n",
    "truck_9 = Truck(9, 'Chevrolet', 'Colorado', 2022, 18000, 'Available', '2023-10-10', 2900)\n",
    "truck_10 = Truck(10, 'GMC', 'Canyon', 2021, 30000, 'Available', '2023-10-12', 3300)"
   ]
  },
  {
   "cell_type": "code",
   "execution_count": 22,
   "id": "313e1eaf",
   "metadata": {
    "scrolled": true
   },
   "outputs": [
    {
     "name": "stdout",
     "output_type": "stream",
     "text": [
      "Truck ID =  1\n",
      "Make =  Ford\n",
      "Model =  F-150\n",
      "Year =  2022\n",
      "Mileage =  15000\n",
      "Status =  Available\n",
      "Last Maintenance Date =  2023-10-20\n",
      "Cargo Capacity =  2500 lbs\n"
     ]
    }
   ],
   "source": [
    "truck_1.truck_info()"
   ]
  },
  {
   "cell_type": "code",
   "execution_count": 23,
   "id": "41ab8891",
   "metadata": {},
   "outputs": [
    {
     "data": {
      "text/plain": [
       "1"
      ]
     },
     "execution_count": 23,
     "metadata": {},
     "output_type": "execute_result"
    }
   ],
   "source": [
    "truck_1.get_truck_id()"
   ]
  },
  {
   "cell_type": "code",
   "execution_count": 29,
   "id": "bc9546d3",
   "metadata": {},
   "outputs": [
    {
     "data": {
      "text/plain": [
       "'Ford'"
      ]
     },
     "execution_count": 29,
     "metadata": {},
     "output_type": "execute_result"
    }
   ],
   "source": [
    "truck_1.get_make()"
   ]
  },
  {
   "cell_type": "code",
   "execution_count": 30,
   "id": "885b6d7b",
   "metadata": {},
   "outputs": [
    {
     "data": {
      "text/plain": [
       "'F-150'"
      ]
     },
     "execution_count": 30,
     "metadata": {},
     "output_type": "execute_result"
    }
   ],
   "source": [
    "truck_1.get_model()"
   ]
  },
  {
   "cell_type": "code",
   "execution_count": 31,
   "id": "cd166a4c",
   "metadata": {},
   "outputs": [
    {
     "data": {
      "text/plain": [
       "'Available'"
      ]
     },
     "execution_count": 31,
     "metadata": {},
     "output_type": "execute_result"
    }
   ],
   "source": [
    "truck_1.get_status()"
   ]
  },
  {
   "cell_type": "code",
   "execution_count": 32,
   "id": "c2bd6dad",
   "metadata": {},
   "outputs": [
    {
     "data": {
      "text/plain": [
       "'No'"
      ]
     },
     "execution_count": 32,
     "metadata": {},
     "output_type": "execute_result"
    }
   ],
   "source": [
    "truck_1.maintenance_required()"
   ]
  },
  {
   "cell_type": "code",
   "execution_count": 49,
   "id": "99132152",
   "metadata": {},
   "outputs": [],
   "source": [
    "truck_1.update_mileage(6000)"
   ]
  },
  {
   "cell_type": "code",
   "execution_count": 50,
   "id": "37cadf1d",
   "metadata": {},
   "outputs": [
    {
     "name": "stdout",
     "output_type": "stream",
     "text": [
      "Truck ID =  1\n",
      "Make =  Ford\n",
      "Model =  F-150\n",
      "Year =  2022\n",
      "Mileage =  6000\n",
      "Status =  Available\n",
      "Last Maintenance Date =  2023-10-20\n",
      "Cargo Capacity =  2500 lbs\n"
     ]
    }
   ],
   "source": [
    "truck_1.truck_info()"
   ]
  },
  {
   "cell_type": "code",
   "execution_count": 70,
   "id": "c9119a38",
   "metadata": {},
   "outputs": [
    {
     "name": "stdout",
     "output_type": "stream",
     "text": [
      "Enter maintenance date (YYYY/MM/DD): 2023/03/15\n"
     ]
    }
   ],
   "source": [
    "truck_1.perform_maintenance()"
   ]
  },
  {
   "cell_type": "code",
   "execution_count": null,
   "id": "4471c607",
   "metadata": {},
   "outputs": [],
   "source": [
    "truck_1.update_status(Yes)"
   ]
  },
  {
   "cell_type": "code",
   "execution_count": 73,
   "id": "b32959ba",
   "metadata": {},
   "outputs": [],
   "source": [
    "truck_1.update_cargo_capacity(2100)"
   ]
  },
  {
   "cell_type": "code",
   "execution_count": 74,
   "id": "fa50d601",
   "metadata": {
    "scrolled": true
   },
   "outputs": [
    {
     "name": "stdout",
     "output_type": "stream",
     "text": [
      "Truck ID =  1\n",
      "Make =  Ford\n",
      "Model =  F-150\n",
      "Year =  2022\n",
      "Mileage =  6000\n",
      "Status =  Available\n",
      "Last Maintenance Date =  2023/03/15\n",
      "Cargo Capacity =  2100 lbs\n"
     ]
    }
   ],
   "source": [
    "truck_1.truck_info()"
   ]
  },
  {
   "cell_type": "code",
   "execution_count": 65,
   "id": "9dd83653",
   "metadata": {},
   "outputs": [],
   "source": [
    "truck_1.update_last_maintenance_date(22/3/2023)"
   ]
  },
  {
   "cell_type": "code",
   "execution_count": 72,
   "id": "0fcdbf2c",
   "metadata": {},
   "outputs": [
    {
     "name": "stdout",
     "output_type": "stream",
     "text": [
      "Truck ID =  1\n",
      "Make =  Ford\n",
      "Model =  F-150\n",
      "Year =  2022\n",
      "Mileage =  6000\n",
      "Status =  Available\n",
      "Last Maintenance Date =  2023/03/15\n",
      "Cargo Capacity =  2100 lbs\n"
     ]
    }
   ],
   "source": [
    "truck_1.truck_info()"
   ]
  },
  {
   "cell_type": "code",
   "execution_count": 259,
   "id": "9fca2628",
   "metadata": {},
   "outputs": [],
   "source": [
    "class ServiceTruck(Truck):\n",
    "    def __init__(self, vehicle_id, make, model, year, mileage, status, last_maintenance_date, cargo_capacity, service_equipment, max_service_capacity, service_type):\n",
    "        # Call the parent class constructor to initialize common attributes\n",
    "        super().__init__(vehicle_id, make, model, year, mileage, status, last_maintenance_date, cargo_capacity)\n",
    "        # Add additional attributes specific to service trucks\n",
    "        self.__service_equipment = service_equipment\n",
    "        self.__max_service_capacity = max_service_capacity\n",
    "        self.__service_type = service_type\n",
    "\n",
    "    def get_max_service_capacity(self):\n",
    "        return self.__max_service_capacity\n",
    "\n",
    "    # Mutator for max_service_capacity\n",
    "    def set_max_service_capacity(self, max_service_capacity):\n",
    "        self.__max_service_capacity = max_service_capacity\n",
    "\n",
    "    # Accessor for service_type\n",
    "    def get_service_type(self):\n",
    "        return self.__service_type\n",
    "\n",
    "    # Mutator for service_type\n",
    "    def set_service_type(self, service_type):\n",
    "        self.__service_type = service_type\n",
    "\n",
    "    def add_service_equipment(self, equipment):\n",
    "        self.__service_equipment.append(equipment)\n",
    "\n",
    "    def remove_service_equipment(self, equipment):\n",
    "        if equipment in self.__service_equipment:\n",
    "            self.__service_equipment.remove(equipment)\n",
    "        else:\n",
    "            print('Equipment not found.')\n",
    "\n",
    "    def get_service_equipment(self):\n",
    "        return self.__service_equipment\n",
    "    \n",
    "    def service_truck_info(self):\n",
    "        super().truck_info()  # Call the parent class method to display common truck info\n",
    "        print('Service Equipment:', self.__service_equipment)"
   ]
  },
  {
   "cell_type": "code",
   "execution_count": 265,
   "id": "b78e9492",
   "metadata": {},
   "outputs": [],
   "source": [
    "# Create 10 instances of the ServiceTruck class\n",
    "service_truck_1 = ServiceTruck(1, 'Chevrolet', 'Silverado', 2023, 10000, 'Available', '2023-10-22', 3000, ['Toolbox', 'Generator'], 500, 'Mechanical')\n",
    "service_truck_2 = ServiceTruck(2, 'Ford', 'Ranger', 2022, 12000, 'Available', '2023-10-23', 2800, ['Wrench', 'Jack'], 550, 'Electrical')\n",
    "service_truck_3 = ServiceTruck(3, 'Dodge', 'Ram', 2023, 11000, 'Available', '2023-10-24', 3200, ['Toolbox', 'Compressor'], 520, 'Mechanical')\n",
    "service_truck_4 = ServiceTruck(4, 'Toyota', 'Tacoma', 2022, 13000, 'Available', '2023-10-25', 2700, ['Generator', 'Wrench'], 530, 'Electrical')\n",
    "service_truck_5 = ServiceTruck(5, 'Nissan', 'Frontier', 2022, 14000, 'Available', '2023-10-26', 3100, ['Toolbox', 'Jack'], 480, 'Mechanical')\n",
    "service_truck_6 = ServiceTruck(6, 'GMC', 'Sierra', 2023, 12000, 'Available', '2023-10-27', 2900, ['Wrench', 'Generator'], 510, 'Electrical')\n",
    "service_truck_7 = ServiceTruck(7, 'Honda', 'Ridgeline', 2023, 11000, 'Available', '2023-10-28', 3000, ['Compressor', 'Toolbox'], 540, 'Mechanical')\n",
    "service_truck_8 = ServiceTruck(8, 'Ram', '1500', 2022, 10000, 'Available', '2023-10-29', 3200, ['Jack', 'Wrench'], 550, 'Electrical')\n",
    "service_truck_9 = ServiceTruck(9, 'Jeep', 'Gladiator', 2023, 15000, 'Available', '2023-10-30', 2800, ['Wrench', 'Compressor'], 530, 'Mechanical')\n",
    "service_truck_10 = ServiceTruck(10, 'Chevrolet', 'Colorado', 2022, 11000, 'Available', '2023-10-31', 3100, ['Jack', 'Generator'], 500, 'Electrical')\n"
   ]
  },
  {
   "cell_type": "code",
   "execution_count": 262,
   "id": "ed965d47",
   "metadata": {},
   "outputs": [
    {
     "data": {
      "text/plain": [
       "500"
      ]
     },
     "execution_count": 262,
     "metadata": {},
     "output_type": "execute_result"
    }
   ],
   "source": [
    "service_truck_1.get_max_service_capacity()"
   ]
  },
  {
   "cell_type": "code",
   "execution_count": 267,
   "id": "e8112122",
   "metadata": {},
   "outputs": [],
   "source": [
    "service_truck_1.set_max_service_capacity(700)"
   ]
  },
  {
   "cell_type": "code",
   "execution_count": 268,
   "id": "a2feb24f",
   "metadata": {},
   "outputs": [
    {
     "data": {
      "text/plain": [
       "700"
      ]
     },
     "execution_count": 268,
     "metadata": {},
     "output_type": "execute_result"
    }
   ],
   "source": [
    "service_truck_1.get_max_service_capacity()"
   ]
  },
  {
   "cell_type": "code",
   "execution_count": 270,
   "id": "564fea2f",
   "metadata": {},
   "outputs": [
    {
     "data": {
      "text/plain": [
       "'Mechanical'"
      ]
     },
     "execution_count": 270,
     "metadata": {},
     "output_type": "execute_result"
    }
   ],
   "source": [
    "service_truck_1.get_service_type()"
   ]
  },
  {
   "cell_type": "code",
   "execution_count": 255,
   "id": "8ed73368",
   "metadata": {},
   "outputs": [],
   "source": [
    "service_truck_1.add_service_equipment('Wrench')"
   ]
  },
  {
   "cell_type": "code",
   "execution_count": 256,
   "id": "06ce7558",
   "metadata": {
    "scrolled": true
   },
   "outputs": [
    {
     "name": "stdout",
     "output_type": "stream",
     "text": [
      "Truck ID =  1\n",
      "Make =  Chevrolet\n",
      "Model =  Silverado\n",
      "Year =  2023\n",
      "Mileage =  10000\n",
      "Status =  Available\n",
      "Last Maintenance Date =  2023-10-22\n",
      "Cargo Capacity =  3000 lbs\n",
      "Service Equipment: ['Toolbox', 'Generator', 'Wrench']\n"
     ]
    }
   ],
   "source": [
    "service_truck_1.service_truck_info()"
   ]
  },
  {
   "cell_type": "code",
   "execution_count": 257,
   "id": "5d438138",
   "metadata": {},
   "outputs": [
    {
     "data": {
      "text/plain": [
       "['Toolbox', 'Generator', 'Wrench']"
      ]
     },
     "execution_count": 257,
     "metadata": {},
     "output_type": "execute_result"
    }
   ],
   "source": [
    "service_truck_1.get_service_equipment()"
   ]
  },
  {
   "cell_type": "code",
   "execution_count": 148,
   "id": "35046a22",
   "metadata": {},
   "outputs": [],
   "source": [
    "service_truck_1.remove_service_equipment('Toolbox')"
   ]
  },
  {
   "cell_type": "code",
   "execution_count": 149,
   "id": "dfddc4a8",
   "metadata": {},
   "outputs": [
    {
     "data": {
      "text/plain": [
       "['Generator', 'Wrench']"
      ]
     },
     "execution_count": 149,
     "metadata": {},
     "output_type": "execute_result"
    }
   ],
   "source": [
    "service_truck_1.get_service_equipment()"
   ]
  },
  {
   "cell_type": "code",
   "execution_count": null,
   "id": "90371a88",
   "metadata": {},
   "outputs": [],
   "source": [
    "class Driver: #2nd Class\n",
    "    def __init__(self, driver_id, name, age, license_number, status):\n",
    "        self.__driver_id = driver_id\n",
    "        self.__name = name\n",
    "        self.__age = age\n",
    "        self.__license_number = license_number\n",
    "        self.__status = status\n",
    "\n",
    "    def driver_info(self):\n",
    "        print('Driver ID = ', self.__driver_id)\n",
    "        print('Name = ', self.__name)\n",
    "        print('Age = ', self.__age)\n",
    "        print('License Number = ', self.__license_number)\n",
    "        print('Status = ', self.__status)\n",
    "\n",
    "    def update_status(self, new_status):\n",
    "        if new_status in ['Available', 'On Duty', 'Off Duty']:\n",
    "            self.__status = new_status\n",
    "        else:\n",
    "            print('Invalid status')\n",
    "\n",
    "    def schedule_driver(self):\n",
    "        self.__status = \"On Duty\"\n",
    "        print(\"Driver scheduled. Status changed to 'On Duty'.\")\n",
    "\n",
    "    def get_driver_id(self):\n",
    "        return self.__driver_id\n",
    "\n",
    "    def get_name(self):\n",
    "        return self.__name\n",
    "    \n",
    "    def get_age(self):\n",
    "        return self.__age\n",
    "    \n",
    "    def get_license_number(self):\n",
    "        return self.__license_number\n",
    "    \n",
    "    def get_status(self):\n",
    "        return self.__status\n",
    "\n",
    "    def update_name(self, new_name):\n",
    "        self.__name = new_name\n",
    "    \n",
    "    def update_age(self, new_age):\n",
    "        if new_age >= 18:\n",
    "            self.__age = new_age\n",
    "        else:\n",
    "            print('Invalid age')\n",
    "\n",
    "    def update_license_number(self, new_license_number):\n",
    "        self.__license_number = new_license_number\n",
    "        "
   ]
  },
  {
   "cell_type": "code",
   "execution_count": null,
   "id": "828bbc8f",
   "metadata": {},
   "outputs": [],
   "source": [
    "# Instances of drivers.\n",
    "driver_1 = Driver(1, 'John Smith', 30, 'DL12345', 'Available')\n",
    "driver_2 = Driver(2, 'Alice Johnson', 28, 'DL23456', 'Available')\n",
    "driver_3 = Driver(3, 'Bob Davis', 35, 'DL34567', 'On Duty')\n",
    "driver_4 = Driver(4, 'Eve Wilson', 26, 'DL45678', 'Off Duty')\n",
    "driver_5 = Driver(5, 'Chris Brown', 32, 'DL56789', 'Available')\n",
    "driver_6 = Driver(6, 'Olivia Miller', 29, 'DL67890', 'Off Duty')\n",
    "driver_7 = Driver(7, 'David Wilson', 33, 'DL78901', 'Available')\n",
    "driver_8 = Driver(8, 'Sophia Taylor', 31, 'DL89012', 'Available')\n",
    "driver_9 = Driver(9, 'Michael Anderson', 36, 'DL90123', 'On Duty')\n",
    "driver_10 = Driver(10, 'Emma Lee', 27, 'DL01234', 'Available')"
   ]
  },
  {
   "cell_type": "code",
   "execution_count": 81,
   "id": "7690f13d",
   "metadata": {},
   "outputs": [
    {
     "name": "stdout",
     "output_type": "stream",
     "text": [
      "Driver ID =  1\n",
      "Name =  John Smith\n",
      "Age =  30\n",
      "License Number =  DL12345\n",
      "Status =  Available\n"
     ]
    }
   ],
   "source": [
    "driver_1.driver_info()"
   ]
  },
  {
   "cell_type": "code",
   "execution_count": 83,
   "id": "d5f7ad5e",
   "metadata": {},
   "outputs": [],
   "source": [
    "driver_1.update_status('On Duty')"
   ]
  },
  {
   "cell_type": "code",
   "execution_count": 85,
   "id": "c6a4e2d3",
   "metadata": {},
   "outputs": [
    {
     "name": "stdout",
     "output_type": "stream",
     "text": [
      "Driver ID =  1\n",
      "Name =  John Smith\n",
      "Age =  30\n",
      "License Number =  DL12345\n",
      "Status =  On Duty\n"
     ]
    }
   ],
   "source": [
    "driver_1.driver_info()"
   ]
  },
  {
   "cell_type": "code",
   "execution_count": 88,
   "id": "ced8b6b5",
   "metadata": {},
   "outputs": [
    {
     "name": "stdout",
     "output_type": "stream",
     "text": [
      "Driver scheduled. Status changed to 'On Duty'.\n"
     ]
    }
   ],
   "source": [
    "driver_1.schedule_driver()"
   ]
  },
  {
   "cell_type": "code",
   "execution_count": 89,
   "id": "21f65f8d",
   "metadata": {},
   "outputs": [
    {
     "data": {
      "text/plain": [
       "1"
      ]
     },
     "execution_count": 89,
     "metadata": {},
     "output_type": "execute_result"
    }
   ],
   "source": [
    "driver_1.get_driver_id()"
   ]
  },
  {
   "cell_type": "code",
   "execution_count": 90,
   "id": "4a2cffc5",
   "metadata": {},
   "outputs": [
    {
     "data": {
      "text/plain": [
       "'John Smith'"
      ]
     },
     "execution_count": 90,
     "metadata": {},
     "output_type": "execute_result"
    }
   ],
   "source": [
    "driver_1.get_name()"
   ]
  },
  {
   "cell_type": "code",
   "execution_count": 91,
   "id": "6c7d8e04",
   "metadata": {},
   "outputs": [
    {
     "data": {
      "text/plain": [
       "30"
      ]
     },
     "execution_count": 91,
     "metadata": {},
     "output_type": "execute_result"
    }
   ],
   "source": [
    "driver_1.get_age()"
   ]
  },
  {
   "cell_type": "code",
   "execution_count": 92,
   "id": "0291efb4",
   "metadata": {},
   "outputs": [
    {
     "data": {
      "text/plain": [
       "'DL12345'"
      ]
     },
     "execution_count": 92,
     "metadata": {},
     "output_type": "execute_result"
    }
   ],
   "source": [
    "driver_1.get_license_number()"
   ]
  },
  {
   "cell_type": "code",
   "execution_count": 93,
   "id": "77f1bfd2",
   "metadata": {},
   "outputs": [
    {
     "data": {
      "text/plain": [
       "'On Duty'"
      ]
     },
     "execution_count": 93,
     "metadata": {},
     "output_type": "execute_result"
    }
   ],
   "source": [
    "driver_1.get_status()"
   ]
  },
  {
   "cell_type": "code",
   "execution_count": 96,
   "id": "5bb98e38",
   "metadata": {},
   "outputs": [],
   "source": [
    "driver_1.update_name('Mr. John Smith')"
   ]
  },
  {
   "cell_type": "code",
   "execution_count": 98,
   "id": "bfb44152",
   "metadata": {},
   "outputs": [],
   "source": [
    "driver_1.update_age(32)"
   ]
  },
  {
   "cell_type": "code",
   "execution_count": 99,
   "id": "10159201",
   "metadata": {},
   "outputs": [
    {
     "name": "stdout",
     "output_type": "stream",
     "text": [
      "Driver ID =  1\n",
      "Name =  Mr. John Smith\n",
      "Age =  32\n",
      "License Number =  DL12345\n",
      "Status =  On Duty\n"
     ]
    }
   ],
   "source": [
    "driver_1.driver_info()"
   ]
  },
  {
   "cell_type": "code",
   "execution_count": 102,
   "id": "6124d4ee",
   "metadata": {},
   "outputs": [],
   "source": [
    "driver_1.update_license_number('XL16545')"
   ]
  },
  {
   "cell_type": "code",
   "execution_count": 103,
   "id": "cd11c6a7",
   "metadata": {},
   "outputs": [
    {
     "name": "stdout",
     "output_type": "stream",
     "text": [
      "Driver ID =  1\n",
      "Name =  Mr. John Smith\n",
      "Age =  32\n",
      "License Number =  XL16545\n",
      "Status =  On Duty\n"
     ]
    }
   ],
   "source": [
    "driver_1.driver_info()"
   ]
  },
  {
   "cell_type": "code",
   "execution_count": 229,
   "id": "fb2887a0",
   "metadata": {},
   "outputs": [],
   "source": [
    "class Route:\n",
    "    def __init__(self, route_id, origin, destination, distance, estimated_time, status):\n",
    "        self.__route_id = route_id\n",
    "        self.__origin = origin\n",
    "        self.__destination = destination\n",
    "        self.__distance = distance\n",
    "        self.__estimated_time = estimated_time\n",
    "        self.__status = status\n",
    "\n",
    "    def route_info(self):\n",
    "        return self.__status\n",
    "\n",
    "    def route_info_full(self):\n",
    "        print('Route ID = ', self.__route_id)\n",
    "        print('Origin = ', self.__origin)\n",
    "        print('Destination = ', self.__destination)\n",
    "        print('Distance = ', self.__distance)\n",
    "        print('Estimated Time = ', self.__estimated_time)\n",
    "        print('Status = ', self.__status)\n",
    "\n",
    "    def get_route_id(self):\n",
    "        return self.__route_id\n",
    "\n",
    "    def get_route_origin(self):\n",
    "        return self.__origin\n",
    "\n",
    "    def get_route_destination(self):\n",
    "        return self.__destination\n",
    "\n",
    "    def get_route_distance(self):\n",
    "        return self.__distance\n",
    "\n",
    "    def get_route_status(self):\n",
    "        return self.__status\n",
    "\n",
    "    def update_route_status(self, new_status):\n",
    "        valid_statuses = ['Scheduled', 'In Progress', 'Completed']\n",
    "        if new_status in valid_statuses:\n",
    "            self.__status = new_status\n",
    "        else:\n",
    "            print('Invalid status')\n",
    "\n",
    "    def update_route_origin(self, new_origin):\n",
    "        self.__origin = new_origin\n",
    "\n",
    "    def update_route_destination(self, new_destination):\n",
    "        self.__destination = new_destination\n",
    "\n",
    "    def update_route_distance(self, new_distance):\n",
    "        self.__distance = new_distance\n",
    "\n",
    "    def mark_routes_completed(self):\n",
    "        self.__status = \"Completed\"\n",
    "        print(\"Route marked as completed\")\n"
   ]
  },
  {
   "cell_type": "code",
   "execution_count": 230,
   "id": "c66416e0",
   "metadata": {},
   "outputs": [],
   "source": [
    "# Instances of routes Class\n",
    "route_1 = Route(1, 'Warehouse A', 'Customer 1', 100, '2 hours', 'Scheduled')\n",
    "route_2 = Route(2, 'Warehouse B', 'Customer 2', 120, '2.5 hours', 'In Progress')\n",
    "route_3 = Route(3, 'Warehouse C', 'Customer 3', 80, '1.5 hours', 'Scheduled')\n",
    "route_4 = Route(4, 'Warehouse D', 'Customer 4', 90, '2 hours', 'Completed')\n",
    "route_5 = Route(5, 'Warehouse E', 'Customer 5', 110, '2.25 hours', 'Scheduled')\n",
    "route_6 = Route(6, 'Warehouse F', 'Customer 6', 130, '2.75 hours', 'In Progress')\n",
    "route_7 = Route(7, 'Warehouse G', 'Customer 7', 70, '1 hour', 'Scheduled')\n",
    "route_8 = Route(8, 'Warehouse H', 'Customer 8', 85, '1.75 hours', 'In Progress')\n",
    "route_9 = Route(9, 'Warehouse I', 'Customer 9', 105, '2.2 hours', 'Scheduled')\n",
    "route_10 = Route(10, 'Warehouse J', 'Customer 10', 115, '2.4 hours', 'Scheduled')"
   ]
  },
  {
   "cell_type": "code",
   "execution_count": 231,
   "id": "2d73e802",
   "metadata": {},
   "outputs": [
    {
     "data": {
      "text/plain": [
       "1"
      ]
     },
     "execution_count": 231,
     "metadata": {},
     "output_type": "execute_result"
    }
   ],
   "source": [
    "route_1.get_route_id()"
   ]
  },
  {
   "cell_type": "code",
   "execution_count": 232,
   "id": "42b00169",
   "metadata": {},
   "outputs": [
    {
     "data": {
      "text/plain": [
       "'Warehouse A'"
      ]
     },
     "execution_count": 232,
     "metadata": {},
     "output_type": "execute_result"
    }
   ],
   "source": [
    "route_1.get_route_origin()"
   ]
  },
  {
   "cell_type": "code",
   "execution_count": 233,
   "id": "dcddd1c6",
   "metadata": {},
   "outputs": [
    {
     "data": {
      "text/plain": [
       "'Customer 1'"
      ]
     },
     "execution_count": 233,
     "metadata": {},
     "output_type": "execute_result"
    }
   ],
   "source": [
    "route_1.get_route_destination()"
   ]
  },
  {
   "cell_type": "code",
   "execution_count": 234,
   "id": "c1388003",
   "metadata": {},
   "outputs": [
    {
     "data": {
      "text/plain": [
       "100"
      ]
     },
     "execution_count": 234,
     "metadata": {},
     "output_type": "execute_result"
    }
   ],
   "source": [
    "route_1.get_route_distance()"
   ]
  },
  {
   "cell_type": "code",
   "execution_count": 235,
   "id": "4b0b1b97",
   "metadata": {},
   "outputs": [
    {
     "data": {
      "text/plain": [
       "'Scheduled'"
      ]
     },
     "execution_count": 235,
     "metadata": {},
     "output_type": "execute_result"
    }
   ],
   "source": [
    "route_1.get_route_status()"
   ]
  },
  {
   "cell_type": "code",
   "execution_count": 236,
   "id": "a5772372",
   "metadata": {},
   "outputs": [],
   "source": [
    "route_1.update_route_status('In Progress')"
   ]
  },
  {
   "cell_type": "code",
   "execution_count": 237,
   "id": "cc9adda1",
   "metadata": {},
   "outputs": [
    {
     "data": {
      "text/plain": [
       "'In Progress'"
      ]
     },
     "execution_count": 237,
     "metadata": {},
     "output_type": "execute_result"
    }
   ],
   "source": [
    "route_1.get_route_status()"
   ]
  },
  {
   "cell_type": "code",
   "execution_count": 238,
   "id": "abf6d620",
   "metadata": {},
   "outputs": [],
   "source": [
    "route_1.update_route_origin('Warehouse C')"
   ]
  },
  {
   "cell_type": "code",
   "execution_count": 239,
   "id": "08493c64",
   "metadata": {},
   "outputs": [
    {
     "data": {
      "text/plain": [
       "'Warehouse C'"
      ]
     },
     "execution_count": 239,
     "metadata": {},
     "output_type": "execute_result"
    }
   ],
   "source": [
    "route_1.get_route_origin()"
   ]
  },
  {
   "cell_type": "code",
   "execution_count": 240,
   "id": "75478372",
   "metadata": {},
   "outputs": [],
   "source": [
    "route_1.update_route_destination('Customer 9')"
   ]
  },
  {
   "cell_type": "code",
   "execution_count": 243,
   "id": "3b12cbf2",
   "metadata": {},
   "outputs": [
    {
     "data": {
      "text/plain": [
       "'Customer 9'"
      ]
     },
     "execution_count": 243,
     "metadata": {},
     "output_type": "execute_result"
    }
   ],
   "source": [
    "route_1.get_route_destination()"
   ]
  },
  {
   "cell_type": "code",
   "execution_count": 244,
   "id": "8bb420e1",
   "metadata": {},
   "outputs": [],
   "source": [
    "route_1.update_route_distance('6 hours')"
   ]
  },
  {
   "cell_type": "code",
   "execution_count": 245,
   "id": "3c8b1867",
   "metadata": {},
   "outputs": [
    {
     "data": {
      "text/plain": [
       "'6 hours'"
      ]
     },
     "execution_count": 245,
     "metadata": {},
     "output_type": "execute_result"
    }
   ],
   "source": [
    "route_1.get_route_distance()"
   ]
  },
  {
   "cell_type": "code",
   "execution_count": 246,
   "id": "e4d4d1b3",
   "metadata": {},
   "outputs": [
    {
     "name": "stdout",
     "output_type": "stream",
     "text": [
      "Route marked as completed\n"
     ]
    }
   ],
   "source": [
    "route_1.mark_routes_completed()"
   ]
  },
  {
   "cell_type": "code",
   "execution_count": 247,
   "id": "b849dd68",
   "metadata": {},
   "outputs": [],
   "source": [
    "class ScheduledRoute(Route):\n",
    "    def __init__(self, route_id, origin, destination, distance, estimated_time, driver_id=None, scheduled_date=None):\n",
    "        # Call the parent class constructor to initialize common attributes\n",
    "        super().__init__(route_id, origin, destination, distance, estimated_time, 'Scheduled')\n",
    "        # Add additional attributes specific to scheduled routes\n",
    "        self.__driver_id = driver_id\n",
    "        self.__scheduled_date = scheduled_date\n",
    "\n",
    "    def assign_driver(self, driver_id):  # To assign Driver for the route\n",
    "        self.__driver_id = driver_id\n",
    "\n",
    "    def get_driver_id(self):  # To get id of the assigned driver\n",
    "        return self.__driver_id\n",
    "\n",
    "    def get_scheduled_date(self):\n",
    "        return self.__scheduled_date\n",
    "\n",
    "    def route_info_full(self):  # To show the full updated information\n",
    "        super().route_info_full()  # Call the parent class method to display common route info\n",
    "        if self.__driver_id is not None:\n",
    "            print('Driver ID:', self.__driver_id)\n",
    "        if self.__scheduled_date is not None:\n",
    "            print('Scheduled Date:', self.__scheduled_date)"
   ]
  },
  {
   "cell_type": "code",
   "execution_count": 248,
   "id": "51139d5e",
   "metadata": {},
   "outputs": [],
   "source": [
    "# Instances of the ScheduledRoute class\n",
    "scheduled_route_1 = ScheduledRoute(1, 'Warehouse A', 'Customer 1', 50, '1 hour', driver_id=1, scheduled_date='2023-11-01')\n",
    "scheduled_route_2 = ScheduledRoute(2, 'Warehouse B', 'Customer 2', 60, '1.5 hours', driver_id=2, scheduled_date='2023-11-02')\n",
    "scheduled_route_3 = ScheduledRoute(3, 'Warehouse C', 'Customer 3', 70, '2 hours', driver_id=3, scheduled_date='2023-11-03')\n",
    "scheduled_route_4 = ScheduledRoute(4, 'Warehouse D', 'Customer 4', 80, '2.5 hours', driver_id=4, scheduled_date='2023-11-04')\n",
    "scheduled_route_5 = ScheduledRoute(5, 'Warehouse E', 'Customer 5', 90, '3 hours', driver_id=5, scheduled_date='2023-11-05')\n",
    "scheduled_route_6 = ScheduledRoute(6, 'Warehouse F', 'Customer 6', 100, '3.5 hours', driver_id=6, scheduled_date='2023-11-06')\n",
    "scheduled_route_7 = ScheduledRoute(7, 'Warehouse G', 'Customer 7', 110, '4 hours', driver_id=7, scheduled_date='2023-11-07')\n",
    "scheduled_route_8 = ScheduledRoute(8, 'Warehouse H', 'Customer 8', 120, '4.5 hours', driver_id=8, scheduled_date='2023-11-08')\n",
    "scheduled_route_9 = ScheduledRoute(9, 'Warehouse I', 'Customer 9', 130, '5 hours', driver_id=9, scheduled_date='2023-11-09')\n",
    "scheduled_route_10 = ScheduledRoute(10, 'Warehouse J', 'Customer 10', 140, '5.5 hours', driver_id=10, scheduled_date='2023-11-10')"
   ]
  },
  {
   "cell_type": "code",
   "execution_count": 249,
   "id": "754a644c",
   "metadata": {},
   "outputs": [],
   "source": [
    "scheduled_route_1.assign_driver(1)"
   ]
  },
  {
   "cell_type": "code",
   "execution_count": 250,
   "id": "b264c526",
   "metadata": {},
   "outputs": [
    {
     "name": "stdout",
     "output_type": "stream",
     "text": [
      "Route ID =  1\n",
      "Origin =  Warehouse A\n",
      "Destination =  Customer 1\n",
      "Distance =  50\n",
      "Estimated Time =  1 hour\n",
      "Status =  Scheduled\n",
      "Driver ID: 1\n",
      "Scheduled Date: 2023-11-01\n"
     ]
    }
   ],
   "source": [
    "scheduled_route_1.route_info_full()"
   ]
  },
  {
   "cell_type": "code",
   "execution_count": 251,
   "id": "d1227580",
   "metadata": {},
   "outputs": [
    {
     "data": {
      "text/plain": [
       "1"
      ]
     },
     "execution_count": 251,
     "metadata": {},
     "output_type": "execute_result"
    }
   ],
   "source": [
    "scheduled_route_1.get_driver_id()"
   ]
  }
 ],
 "metadata": {
  "kernelspec": {
   "display_name": "Python 3 (ipykernel)",
   "language": "python",
   "name": "python3"
  },
  "language_info": {
   "codemirror_mode": {
    "name": "ipython",
    "version": 3
   },
   "file_extension": ".py",
   "mimetype": "text/x-python",
   "name": "python",
   "nbconvert_exporter": "python",
   "pygments_lexer": "ipython3",
   "version": "3.11.4"
  }
 },
 "nbformat": 4,
 "nbformat_minor": 5
}
